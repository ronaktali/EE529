{
  "nbformat": 4,
  "nbformat_minor": 0,
  "metadata": {
    "colab": {
      "name": "EE529_HW2.ipynb",
      "provenance": [],
      "collapsed_sections": []
    },
    "kernelspec": {
      "display_name": "Python 3",
      "name": "python3"
    }
  },
  "cells": [
    {
      "cell_type": "code",
      "metadata": {
        "id": "aCwPYzBwiSon"
      },
      "source": [
        "import numpy as np\n",
        "import pandas as pd\n",
        "import matplotlib.pyplot as plt\n",
        "from numpy import linalg as LA\n",
        "%matplotlib inline"
      ],
      "execution_count": 1,
      "outputs": []
    },
    {
      "cell_type": "code",
      "metadata": {
        "id": "DQMaM2jnm1zk"
      },
      "source": [
        "#Q3"
      ],
      "execution_count": null,
      "outputs": []
    },
    {
      "cell_type": "markdown",
      "metadata": {
        "id": "JzRY881WOQ8K"
      },
      "source": [
        "The following function samples from a Multivariate Normal distribution in high dimensions. Calculates the norm of the samples, plots histogram and calculated the mean and sd of the sample norms collected."
      ]
    },
    {
      "cell_type": "code",
      "metadata": {
        "id": "jKDrEbVzifNp"
      },
      "source": [
        "\n",
        "def sample(n,d,if_plot, samp_only=True):\n",
        "#Create mean and cov matrix\n",
        "  mean = np.zeros(d)\n",
        "  cov = np.eye(d)\n",
        "\n",
        "#Sample\n",
        "  samps = np.random.multivariate_normal(mean, cov, size=n)\n",
        "\n",
        "#Compute norms\n",
        "  samp_norms = [LA.norm(i) for i in samps]\n",
        "\n",
        "  if(if_plot):\n",
        "    plt.hist(samp_norms, bins='auto')\n",
        "    plt.title(\"Histogram of Norm of \" +str(d)+\" dimensional Gaussian Distribution\")\n",
        "    plt.show()\n",
        "\n",
        "  mean_samp_norm = np.mean(samp_norms)\n",
        "  sd_samp_norm = np.std(samp_norms)\n",
        "  \n",
        "  if(if_plot):\n",
        "    print('Mean of Sample Norms = ',mean_samp_norm)\n",
        "    print('SD of Sample Norms = ',sd_samp_norm)\n",
        "\n",
        "  if(samp_only):\n",
        "    return(samp_norms)\n",
        "  else:\n",
        "    return([mean_samp_norm, sd_samp_norm])\n"
      ],
      "execution_count": 2,
      "outputs": []
    },
    {
      "cell_type": "code",
      "metadata": {
        "colab": {
          "base_uri": "https://localhost:8080/",
          "height": 333
        },
        "id": "aSCpQsMKm54V",
        "outputId": "4355958d-0772-4871-87ce-35ea2deb15b3"
      },
      "source": [
        "#Plot for d = 3 - Just to test the code.\n",
        "\n",
        "#Specify d, n\n",
        "d = 3\n",
        "n = 10000\n",
        "sample(n=n,d=d,if_plot=True, samp_only=False)"
      ],
      "execution_count": 3,
      "outputs": [
        {
          "output_type": "display_data",
          "data": {
            "image/png": "[encoded data removed]",
            "text/plain": [
              "<Figure size 432x288 with 1 Axes>"
            ]
          },
          "metadata": {
            "tags": [],
            "needs_background": "light"
          }
        },
        {
          "output_type": "stream",
          "text": [
            "Mean of Sample Norms =  1.6023130723730592\n",
            "SD of Sample Norms =  0.6745202027009594\n"
          ],
          "name": "stdout"
        },
        {
          "output_type": "execute_result",
          "data": {
            "text/plain": [
              "[1.6023130723730592, 0.6745202027009594]"
            ]
          },
          "metadata": {
            "tags": []
          },
          "execution_count": 3
        }
      ]
    },
    {
      "cell_type": "markdown",
      "metadata": {
        "id": "z4a1xG8COpxQ"
      },
      "source": [
        "In the following piece of code, we generate samples for different **d**. Later plot the histograms side by side."
      ]
    },
    {
      "cell_type": "code",
      "metadata": {
        "colab": {
          "base_uri": "https://localhost:8080/",
          "height": 265
        },
        "id": "ihukBxWIMWxx",
        "outputId": "68aa0cc6-de9e-4e61-cdbd-4e71a1ba6409"
      },
      "source": [
        "#Plotting multiple histograms\n",
        "\n",
        "hlogs = [sample(n=10000,d=d,if_plot=False, samp_only=True) for d in [50,100,200,500,1000]]\n",
        "\n",
        "plt.hist(hlogs[0], bins='auto', alpha=0.5, label='d=50')\n",
        "plt.hist(hlogs[1], bins='auto', alpha=0.5, label='d=100')\n",
        "plt.hist(hlogs[2], bins='auto', alpha=0.5, label='d=200')\n",
        "plt.hist(hlogs[3], bins='auto', alpha=0.5, label='d=500')\n",
        "plt.hist(hlogs[4], bins='auto', alpha=0.5, label='d=1000')\n",
        "plt.legend(loc='upper left')\n",
        "plt.show()"
      ],
      "execution_count": null,
      "outputs": [
        {
          "output_type": "display_data",
          "data": {
            "image/png": "[encoded data removed]",
            "text/plain": [
              "<Figure size 432x288 with 1 Axes>"
            ]
          },
          "metadata": {
            "tags": []
          }
        }
      ]
    },
    {
      "cell_type": "markdown",
      "metadata": {
        "id": "Fabt146pN1-Z"
      },
      "source": [
        "**Conclusion** - We see that as d increases, the histograms shift towards the right, but the spread of the histograms (sd) remains almost the same. This demonstrates that most samples are picked from near the surface of the hypersphere."
      ]
    },
    {
      "cell_type": "code",
      "metadata": {
        "id": "lt3WMTSGMW0T"
      },
      "source": [
        ""
      ],
      "execution_count": null,
      "outputs": []
    },
    {
      "cell_type": "markdown",
      "metadata": {
        "id": "_1SxLVD_PDMX"
      },
      "source": [
        "The following plots show that the mean increases as d increases but the SD remains almost the same. Highlighting the curse of dimensionality"
      ]
    },
    {
      "cell_type": "code",
      "metadata": {
        "id": "7yQeo-e4m565"
      },
      "source": [
        "#Collect Stats for d = 50,100,200,500,1000\n",
        "\n",
        "logs = [sample(n=10000,d=d,if_plot=False) for d in [50,100,200,500,1000]]\n",
        "logs = np.array(logs)"
      ],
      "execution_count": null,
      "outputs": []
    },
    {
      "cell_type": "code",
      "metadata": {
        "colab": {
          "base_uri": "https://localhost:8080/"
        },
        "id": "VfVdevmYifSC",
        "outputId": "5344dddb-6336-4138-8daa-b581fbb67a8f"
      },
      "source": [
        "logs"
      ],
      "execution_count": null,
      "outputs": [
        {
          "output_type": "execute_result",
          "data": {
            "text/plain": [
              "[[7.024625790258555, 0.708410778731241],\n",
              " [9.967925688252933, 0.7083715004425176],\n",
              " [14.128024916179342, 0.7063251285664066],\n",
              " [22.341255314313724, 0.708374904006788],\n",
              " [31.61906623623292, 0.7122927172490688]]"
            ]
          },
          "metadata": {
            "tags": []
          },
          "execution_count": 21
        }
      ]
    },
    {
      "cell_type": "code",
      "metadata": {
        "colab": {
          "base_uri": "https://localhost:8080/",
          "height": 281
        },
        "id": "8iawXwOcof62",
        "outputId": "7cbf09a2-03a9-4142-c5c1-3e5c3e894d1d"
      },
      "source": [
        "plt.plot([50,100,200,500,1000],logs[:,0])\n",
        "plt.title(\"Plot of Mean of Norm of \" +str(d)+\" dimensional Gaussian Distribution\")\n",
        "plt.grid(True)\n",
        "plt.show()"
      ],
      "execution_count": null,
      "outputs": [
        {
          "output_type": "display_data",
          "data": {
            "image/png": "[encoded data removed]",
            "text/plain": [
              "<Figure size 432x288 with 1 Axes>"
            ]
          },
          "metadata": {
            "tags": []
          }
        }
      ]
    },
    {
      "cell_type": "code",
      "metadata": {
        "colab": {
          "base_uri": "https://localhost:8080/",
          "height": 281
        },
        "id": "NsbZhTVAqXM-",
        "outputId": "1b65b584-5943-4169-b3c0-9b4a2609e95c"
      },
      "source": [
        "plt.plot([50,100,200,500,1000],logs[:,1])\n",
        "plt.title(\"Plot of SD of Norm of \" +str(d)+\" dimensional Gaussian Distribution\")\n",
        "plt.ylim((0.6,0.8))\n",
        "plt.grid(True)\n",
        "plt.show()"
      ],
      "execution_count": null,
      "outputs": [
        {
          "output_type": "display_data",
          "data": {
            "image/png": "[encoded data removed]",
            "text/plain": [
              "<Figure size 432x288 with 1 Axes>"
            ]
          },
          "metadata": {
            "tags": []
          }
        }
      ]
    },
    {
      "cell_type": "code",
      "metadata": {
        "id": "QbgsTfCRrFx7"
      },
      "source": [
        ""
      ],
      "execution_count": null,
      "outputs": []
    },
    {
      "cell_type": "code",
      "metadata": {
        "id": "_m0aIYQArF0f"
      },
      "source": [
        "#Q4"
      ],
      "execution_count": null,
      "outputs": []
    },
    {
      "cell_type": "markdown",
      "metadata": {
        "id": "cncAmikmcipk"
      },
      "source": [
        "**The Settings for this problem are as follows:**"
      ]
    },
    {
      "cell_type": "code",
      "metadata": {
        "id": "Lru-tFXXrF2u"
      },
      "source": [
        "n = 10\n",
        "d = 5000\n",
        "eps = 0.1"
      ],
      "execution_count": null,
      "outputs": []
    },
    {
      "cell_type": "markdown",
      "metadata": {
        "id": "KszZrJHoc4uq"
      },
      "source": [
        "**We perform the following steps:**\n",
        "\n",
        "\n",
        "*   Sample 10 points\n",
        "*   Calculate $m$ for $n = 10$ and $\\epsilon = 0.1$\n",
        "\n",
        "\n"
      ]
    },
    {
      "cell_type": "code",
      "metadata": {
        "id": "t2FYB9WHt2v5"
      },
      "source": [
        "import random\n",
        "#Create S = n*d matrix from I_{5000*5000}\n",
        "\n",
        "V = np.eye(d)\n",
        "\n",
        "#Sample 10 columns\n",
        "ridx = random.sample(range(1, d), n)\n",
        "sampa = [ V[j] for j in ridx]"
      ],
      "execution_count": null,
      "outputs": []
    },
    {
      "cell_type": "code",
      "metadata": {
        "id": "8zOih9G-u5-x"
      },
      "source": [
        "#Calculate m for n = 10 and eps = 0.1\n",
        "\n",
        "m_max = np.int(8*np.log(n)/(eps**2))"
      ],
      "execution_count": null,
      "outputs": []
    },
    {
      "cell_type": "code",
      "metadata": {
        "colab": {
          "base_uri": "https://localhost:8080/"
        },
        "id": "aX4X_tNnZ6a8",
        "outputId": "7825c369-803a-4164-b5e8-22bdeff58eca"
      },
      "source": [
        "m_max"
      ],
      "execution_count": null,
      "outputs": [
        {
          "output_type": "execute_result",
          "data": {
            "text/plain": [
              "1842"
            ]
          },
          "metadata": {
            "tags": []
          },
          "execution_count": 79
        }
      ]
    },
    {
      "cell_type": "markdown",
      "metadata": {
        "id": "vX-XK4ZEdk2x"
      },
      "source": [
        "Instantiating an A for initial code testing- This is just to test code. We will later check for the Leamma with various Random A in function check_JL()"
      ]
    },
    {
      "cell_type": "code",
      "metadata": {
        "id": "ITajFFIeuSda"
      },
      "source": [
        "#Create a Random Projection Matrix = A drawn iid from N(0,1/m) \n",
        "A = (1/np.sqrt(m_max))*np.random.randn(m_max,d)\n"
      ],
      "execution_count": null,
      "outputs": []
    },
    {
      "cell_type": "markdown",
      "metadata": {
        "id": "1RQr4xBrdxsH"
      },
      "source": [
        "\n",
        "\n",
        "*   Calculate distances between all possible pair of points \n",
        "*   Calculate Projections\n",
        "*   Check that the Lemma holds\n",
        "\n",
        "*Note - The program will flash the message \"True\" is the Lemmma holds*\n",
        "\n",
        "\n",
        "\n",
        "\n"
      ]
    },
    {
      "cell_type": "code",
      "metadata": {
        "colab": {
          "base_uri": "https://localhost:8080/"
        },
        "id": "-vi2yd5pvZHo",
        "outputId": "862d6890-8692-4ec7-b156-a3003b11ccc7"
      },
      "source": [
        "#Code to Check Lemma - We will later use this within a function.\n",
        "\n",
        "point_pairs = [[i,j] for i in range(10) for j in range(10)]\n",
        "dists = [ LA.norm(np.subtract(sampa[pair[0]], sampa[pair[1]]))**2 for pair in point_pairs]\n",
        "projs = [ LA.norm(np.subtract(A@sampa[pair[0]], A@sampa[pair[1]]))**2 for pair in point_pairs]\n",
        "check = [ (0.9*dists[i] <= projs[i])&(projs[i] <= 1.1*dists[i]) for i in range(10*10)]\n",
        "np.all(check) #All elements are True"
      ],
      "execution_count": null,
      "outputs": [
        {
          "output_type": "execute_result",
          "data": {
            "text/plain": [
              "True"
            ]
          },
          "metadata": {
            "tags": []
          },
          "execution_count": 84
        }
      ]
    },
    {
      "cell_type": "markdown",
      "metadata": {
        "id": "x2b2Md-vYOnT"
      },
      "source": [
        "The function below takes as input, n=10 datapoints. Generates all possible pairs of points **u,v **. The applies a randomly generated matrix ***A*** to create a random projection. It then checks whether the Johnson-Lindenstrauss Lemma is satisfied or not."
      ]
    },
    {
      "cell_type": "code",
      "metadata": {
        "id": "3_8eqq6_A1GF"
      },
      "source": [
        "def check_JL(data,m,d=5000):\n",
        "\n",
        "  #Generate A\n",
        "  A = (1/np.sqrt(m))*np.random.randn(m,d)\n",
        "\n",
        "  #Run the Lemma\n",
        "  point_pairs = [[i,j] for i in range(10) for j in range(10)] #Select pairs of points from 10 points\n",
        "  dists = [ LA.norm(np.subtract(data[pair[0]], data[pair[1]]))**2 for pair in point_pairs] #Calculates ||u-v||^2\n",
        "  projs = [ LA.norm(np.subtract(A@data[pair[0]], A@data[pair[1]]))**2 for pair in point_pairs] #Calculates ||A(u-v)||^2\n",
        "  check = [ (0.9*dists[i] <= projs[i])&(projs[i] <= 1.1*dists[i]) for i in range(10*10)] #Checks if the Lemma is satisfied for all u,v\n",
        "\n",
        "  #Return result\n",
        "  return(np.all(check)) #If all elements are True"
      ],
      "execution_count": null,
      "outputs": []
    },
    {
      "cell_type": "markdown",
      "metadata": {
        "id": "PJWy3n7Hed0K"
      },
      "source": [
        "As discussed in the class, m is a very loose bound, we actually expect to see the lemma satisfied at much lower dimensions.\n",
        "\n",
        "Note - The method below checks that the lemma is satisfied for each dimension, by running the code 10 times with a random A each time. It flashes a message True only if the lemma is satisfied for each random A for a given dimension. In case for a dimension, choosing some random A leads to a situation where the lemma is not satisfied, we flash the message False. We notice that for embedding dimension 1700 and above, we are consistently satisying the Lemma"
      ]
    },
    {
      "cell_type": "code",
      "metadata": {
        "colab": {
          "base_uri": "https://localhost:8080/"
        },
        "id": "dGpWaTk9B-kU",
        "outputId": "7d08e8d2-a298-4ef7-9d81-56580c86834f"
      },
      "source": [
        "# Run multiple simulations per m for random A each time - 10 times each\n",
        "\n",
        "def run_sim(data,m, times=10):\n",
        "  res = [check_JL(data,m) for j in range(times)]\n",
        "  return(np.all(res))\n",
        "\n",
        "#Check the minimum size of m\n",
        "[run_sim(sampa,m) for m in [1200, 1300, 1400, 1500, 1600, 1700, 1800, 1900]]"
      ],
      "execution_count": null,
      "outputs": [
        {
          "output_type": "execute_result",
          "data": {
            "text/plain": [
              "[False, False, False, False, False, True, True, True]"
            ]
          },
          "metadata": {
            "tags": []
          },
          "execution_count": 87
        }
      ]
    },
    {
      "cell_type": "code",
      "metadata": {
        "id": "enYCNNiJNNfc"
      },
      "source": [
        ""
      ],
      "execution_count": null,
      "outputs": []
    },
    {
      "cell_type": "code",
      "metadata": {
        "id": "rQllvg0VE_Vv"
      },
      "source": [
        "#Q5"
      ],
      "execution_count": null,
      "outputs": []
    },
    {
      "cell_type": "code",
      "metadata": {
        "id": "iT09vhhITrrp"
      },
      "source": [
        ""
      ],
      "execution_count": null,
      "outputs": []
    },
    {
      "cell_type": "markdown",
      "metadata": {
        "id": "CnbcCfvLaDFV"
      },
      "source": [
        "The following code uses a library called Spacy to read a file and store it as a Spacy Document that we can use to tokenize the file into a vector of words followed by removal of punctuations, spaces and stop words."
      ]
    },
    {
      "cell_type": "code",
      "metadata": {
        "id": "X6SyL3I3Trt7"
      },
      "source": [
        "import numpy as np\n",
        "import math\n",
        "import spacy\n",
        "\n",
        "nlp = spacy.load(\"en_core_web_sm\")\n",
        "\n",
        "def open_file(file_name):\n",
        "  with open(file_name, 'r') as file:\n",
        "    data = file.read().replace('\\n', '')\n",
        "\n",
        "  doc = nlp(data.lower())\n",
        "  return(doc)\n",
        "\n",
        "#Create Spacy Objects\n",
        "d1 = open_file('d1.txt')\n",
        "d2 = open_file('d2.txt')\n",
        "d3 = open_file('d3.txt')\n",
        "d4 = open_file('d4.txt')\n",
        "d5 = open_file('d5.txt')\n",
        "dq = open_file('d_query.txt')\n",
        "\n"
      ],
      "execution_count": 5,
      "outputs": []
    },
    {
      "cell_type": "code",
      "metadata": {
        "id": "Z3NLSYmOZakP"
      },
      "source": [
        ""
      ],
      "execution_count": null,
      "outputs": []
    },
    {
      "cell_type": "markdown",
      "metadata": {
        "id": "MHTSK1C-a1l6"
      },
      "source": [
        "We create a vector of Document Frequency for each document after removing punctuations, spaces and stop words."
      ]
    },
    {
      "cell_type": "code",
      "metadata": {
        "id": "9pk1Wrsql28D"
      },
      "source": [
        "def create_df(nlp_doc):\n",
        "  # Create a vector of words\n",
        "  doc_1 = [token.orth_ for token in nlp_doc if not token.is_punct | token.is_space | token.is_stop]\n",
        "\n",
        "  #Create a dictionary of DF i.e. {word : count}\n",
        "  return(dict((x,doc_1.count(x)) for x in set(doc_1)))\n",
        "\n",
        "\n",
        "c1 = create_df(d1)\n",
        "c2 = create_df(d2)\n",
        "c3 = create_df(d3)\n",
        "c4 = create_df(d4)\n",
        "c5 = create_df(d5)\n",
        "cq = create_df(dq)\n",
        "\n",
        "#Create Corpus by combining all the documents - List of dictionaries.\n",
        "df_corp = [c1,c2,c3,c4,c5,cq]\n"
      ],
      "execution_count": 6,
      "outputs": []
    },
    {
      "cell_type": "markdown",
      "metadata": {
        "id": "k5Vz39Q6cwmP"
      },
      "source": [
        "The following method calculates the TF-IDF vector for each document and query. Notice that the word Java occurs everywhere i.e. documents and query, therefore its TF-IDF score is zero."
      ]
    },
    {
      "cell_type": "code",
      "metadata": {
        "id": "sRiAiB-yG9nd"
      },
      "source": [
        "def create_df_idf(nlp_doc, corpus):\n",
        "\n",
        "  N = len(corpus) #Total Number of docs\n",
        "  dic = {}\n",
        "\n",
        "  #For each dictionary in corpus for each word in dictionary find match with other dictionaries.\n",
        "  for word in nlp_doc.keys():\n",
        "    presence = sum([1 if word in doc.keys() else 0 for doc in corpus]) #See if a given word in a document is present in any other documents in corpus\n",
        "    IDF = np.log(N/presence) #Calculates Inverse Document Frequency\n",
        "    dic[word] = IDF*nlp_doc[word] #Multiplies IDF*DF for each word in the document\n",
        "\n",
        "  #Return the TF-IDF as a dictionary {word : TF-IDF}\n",
        "  return(dic)\n",
        "\n",
        "\n",
        "i1 = create_df_idf(c1,df_corp)\n",
        "i2 = create_df_idf(c2,df_corp)\n",
        "i3 = create_df_idf(c3,df_corp)\n",
        "i4 = create_df_idf(c4,df_corp)\n",
        "i5 = create_df_idf(c5,df_corp)\n",
        "iq = create_df_idf(cq,df_corp)\n"
      ],
      "execution_count": 7,
      "outputs": []
    },
    {
      "cell_type": "code",
      "metadata": {
        "id": "OS1izpIJndVR"
      },
      "source": [
        ""
      ],
      "execution_count": null,
      "outputs": []
    },
    {
      "cell_type": "code",
      "metadata": {
        "id": "0JaCMaCqndXU"
      },
      "source": [
        "#Method to Compute cosine similarity between a tfidf vectors of document and query\n",
        "\n",
        "def cosine_sim(doc,query):\n",
        "  doc_norm = np.sqrt(np.sum([val**2 for val in doc.values()])) #TF_IDF norm of document\n",
        "  q_norm = np.sqrt(np.sum([val**2 for val in query.values()])) #TF_IDF norm of query\n",
        "\n",
        "  dpk = []\n",
        "  for key in query.keys():\n",
        "    if key in doc.keys():\n",
        "      dpk.append(query[key]*doc[key]) #Compute the dotproduct - Numerator\n",
        "\n",
        "  return(sum(dpk)/(doc_norm*q_norm)) #Compute and return Cosine Distance"
      ],
      "execution_count": 8,
      "outputs": []
    },
    {
      "cell_type": "markdown",
      "metadata": {
        "id": "WExxMHAqcAkl"
      },
      "source": [
        "Call this method on all documents and check the cosine similarity of each document with the query"
      ]
    },
    {
      "cell_type": "code",
      "metadata": {
        "id": "HPDp3RFqO57h",
        "colab": {
          "base_uri": "https://localhost:8080/"
        },
        "outputId": "a1670c00-603f-40cd-cfb9-87313a3d1001"
      },
      "source": [
        "cosine_sim(i1,iq)"
      ],
      "execution_count": 9,
      "outputs": [
        {
          "output_type": "execute_result",
          "data": {
            "text/plain": [
              "0.0"
            ]
          },
          "metadata": {
            "tags": []
          },
          "execution_count": 9
        }
      ]
    },
    {
      "cell_type": "code",
      "metadata": {
        "id": "pAsQRCKdO-wr",
        "colab": {
          "base_uri": "https://localhost:8080/"
        },
        "outputId": "ff4dc70a-b69b-4c22-8769-c45aaaa487f6"
      },
      "source": [
        "cosine_sim(i2,iq)"
      ],
      "execution_count": 10,
      "outputs": [
        {
          "output_type": "execute_result",
          "data": {
            "text/plain": [
              "0.0"
            ]
          },
          "metadata": {
            "tags": []
          },
          "execution_count": 10
        }
      ]
    },
    {
      "cell_type": "code",
      "metadata": {
        "id": "gW46OTplPAKh",
        "colab": {
          "base_uri": "https://localhost:8080/"
        },
        "outputId": "e43a9260-b055-44b0-db1f-4e9d3002ba90"
      },
      "source": [
        "cosine_sim(i3,iq)"
      ],
      "execution_count": 11,
      "outputs": [
        {
          "output_type": "execute_result",
          "data": {
            "text/plain": [
              "0.0"
            ]
          },
          "metadata": {
            "tags": []
          },
          "execution_count": 11
        }
      ]
    },
    {
      "cell_type": "code",
      "metadata": {
        "id": "Y58SE95GPAwq",
        "colab": {
          "base_uri": "https://localhost:8080/"
        },
        "outputId": "e016ebf5-6103-43ec-de9e-9501e826b91a"
      },
      "source": [
        "cosine_sim(i4,iq)"
      ],
      "execution_count": 12,
      "outputs": [
        {
          "output_type": "execute_result",
          "data": {
            "text/plain": [
              "0.2282556502512401"
            ]
          },
          "metadata": {
            "tags": []
          },
          "execution_count": 12
        }
      ]
    },
    {
      "cell_type": "code",
      "metadata": {
        "id": "JAW9elfZPBM6",
        "colab": {
          "base_uri": "https://localhost:8080/"
        },
        "outputId": "4e02df79-32a6-40b3-8b2a-064fc95afb5f"
      },
      "source": [
        "cosine_sim(i5,iq)"
      ],
      "execution_count": 13,
      "outputs": [
        {
          "output_type": "execute_result",
          "data": {
            "text/plain": [
              "0.0"
            ]
          },
          "metadata": {
            "tags": []
          },
          "execution_count": 13
        }
      ]
    },
    {
      "cell_type": "markdown",
      "metadata": {
        "id": "WGHffzY_NBK4"
      },
      "source": [
        "**Conclusion** - This shows that Document 4 is the closest match with the query"
      ]
    }
  ]
}